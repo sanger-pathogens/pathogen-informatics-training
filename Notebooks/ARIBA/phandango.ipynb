{
 "cells": [
  {
   "cell_type": "markdown",
   "metadata": {},
   "source": [
    "# Viewing ARIBA results in Phandango\n",
    "\n",
    "This section describes how to use [Phandango](http://phandango.net/) to view a summary of ARIBA results from many samples.\n",
    "\n",
    "The most important output file from ARIBA is the report called `report.tsv`. For this tutorial, we have all 1517 reports in the directory `data/ARIBA_reports/`."
   ]
  },
  {
   "cell_type": "code",
   "execution_count": 1,
   "metadata": {
    "collapsed": false
   },
   "outputs": [
    {
     "name": "stdout",
     "output_type": "stream",
     "text": [
      "1517\n"
     ]
    }
   ],
   "source": [
    "ls data/ARIBA_reports | wc -l"
   ]
  },
  {
   "cell_type": "markdown",
   "metadata": {},
   "source": [
    "See the [previous section](run_ariba.ipynb) for how to generate a report file for each sample.\n",
    "\n",
    "ARIBA has a functon called \"[summary](https://github.com/sanger-pathogens/ariba/wiki/Task:-summary)\" that can summarise presence/absence of sequences and/or SNPs across samples. It takes at least two ariba reports as input, and makes a CSV file that can be opened in your favourite spreadsheet program, and also makes input files for Phandango. The two Phandango files (a tree and a CSV file) can be dropped straight into the Phandango page for viewing.\n",
    "\n",
    "The tree that ARIBA makes is based on the CSV file, which contains results of presence/absence of sequence and SNPs, and other information such as percent identity bewteen contigs and reference sequences. This means that it does not necessarily represent the real phylogeny of the samples. It is more accurate to provide a tree built from the sequencing data. For this reason, we will use a pre-computed tree file `data/tree_for_phandango.tre`.\n",
    "\n",
    "## Basic usage of ariba summary\n",
    "\n",
    "First, let's run `ariba summary` using the default settings, except we will skip making the tree:"
   ]
  },
  {
   "cell_type": "code",
   "execution_count": 2,
   "metadata": {
    "collapsed": false
   },
   "outputs": [],
   "source": [
    "ariba summary --no_tree out data/ARIBA_reports/*.tsv"
   ]
  },
  {
   "cell_type": "markdown",
   "metadata": {},
   "source": [
    "We can see that this made two files:"
   ]
  },
  {
   "cell_type": "code",
   "execution_count": 3,
   "metadata": {
    "collapsed": false
   },
   "outputs": [
    {
     "name": "stdout",
     "output_type": "stream",
     "text": [
      "out.csv  out.phandango.csv\n"
     ]
    }
   ],
   "source": [
    "ls out.*"
   ]
  },
  {
   "cell_type": "markdown",
   "metadata": {},
   "source": [
    "They are the same except for the first line, which has Phandango-specific information. ARIBA uses the filenames as sample names in the output: "
   ]
  },
  {
   "cell_type": "code",
   "execution_count": 4,
   "metadata": {
    "collapsed": false
   },
   "outputs": [
    {
     "name": "stdout",
     "output_type": "stream",
     "text": [
      "name,16S.match,16S.match:colour,23S.match,23S.match:colour,blaTEM.match,blaTEM.match:colour,folP.match,folP.match:colour,gyrA.match,gyrA.match:colour,mtrR.match,mtrR.match:colour,mtrR_promoter.match,mtrR_promoter.match:colour,parC.match,parC.match:colour,parE.match,parE.match:colour,penA.match,penA.match:colour,ponA.match,ponA.match:colour,porA.match,porA.match:colour,porB1a.match,porB1a.match:colour,porB1b.match,porB1b.match:colour,rpoB.match,rpoB.match:colour,rpsJ.match,rpsJ.match:colour,tetM.match,tetM.match:colour\n",
      "data/ARIBA_reports/ERR1067709.tsv,no,#fb9a99,no,#fb9a99,no,#fb9a99,yes,#33a02c,no,#fb9a99,no,#fb9a99,yes,#33a02c,no,#fb9a99,no,#fb9a99,no,#fb9a99,no,#fb9a99,no,#fb9a99,no,#fb9a99,yes,#33a02c,yes,#33a02c,yes,#33a02c,no,#fb9a99\n"
     ]
    }
   ],
   "source": [
    "head -n 2 out.phandango.csv"
   ]
  },
  {
   "cell_type": "markdown",
   "metadata": {},
   "source": [
    "The first name is \"data/ARIBA_reports/ERR1067709.tsv\", and the rest are named similarly. This is not ideal, as it will look ugly in Phandango. Further, the names must exactly match the names in the tree file for Phandango to work (have a look in the tree file `data/tree_for_phandango.tre`). You could do a little hacking here using the Unix command `sed` on the CSV file. Instead, we can supply ARIBA with a file of filenames that also tells ariba what to call the samples in its output CSV files. Instead of \"data/ARIBA_reports/ERR1067709.tsv\", we would like to simply use \"ERR1067709\", which is cleaner and matches the tree file. It also means we can (and will) repeatedly run `ariba summary` with different options, and get output files that can be loaded straight into Phandango. This is one way to make the file with the naming information:"
   ]
  },
  {
   "cell_type": "code",
   "execution_count": 5,
   "metadata": {
    "collapsed": true
   },
   "outputs": [],
   "source": [
    "ls data/ARIBA_reports/* | awk -F/ '{print $0,$NF}' | sed 's/.tsv$//' > data/filenames.fofn"
   ]
  },
  {
   "cell_type": "markdown",
   "metadata": {},
   "source": [
    "The file is quite simple. Column 1 is the filename, and column 2 is the name we would like to use in the output."
   ]
  },
  {
   "cell_type": "code",
   "execution_count": 6,
   "metadata": {
    "collapsed": false
   },
   "outputs": [
    {
     "name": "stdout",
     "output_type": "stream",
     "text": [
      "data/ARIBA_reports/ERR1067709.tsv ERR1067709\n",
      "data/ARIBA_reports/ERR1067710.tsv ERR1067710\n",
      "data/ARIBA_reports/ERR1067711.tsv ERR1067711\n",
      "data/ARIBA_reports/ERR1067712.tsv ERR1067712\n",
      "data/ARIBA_reports/ERR1067713.tsv ERR1067713\n",
      "data/ARIBA_reports/ERR1067714.tsv ERR1067714\n",
      "data/ARIBA_reports/ERR1067715.tsv ERR1067715\n",
      "data/ARIBA_reports/ERR1067716.tsv ERR1067716\n",
      "data/ARIBA_reports/ERR1067717.tsv ERR1067717\n",
      "data/ARIBA_reports/ERR1067718.tsv ERR1067718\n"
     ]
    }
   ],
   "source": [
    "head data/filenames.fofn"
   ]
  },
  {
   "cell_type": "markdown",
   "metadata": {},
   "source": [
    "Now we can rerun summary using this input file. Note the use of the new option `--fofn`."
   ]
  },
  {
   "cell_type": "code",
   "execution_count": 7,
   "metadata": {
    "collapsed": true
   },
   "outputs": [],
   "source": [
    "ariba summary --no_tree --fofn data/filenames.fofn out data/ARIBA_reports/*.tsv"
   ]
  },
  {
   "cell_type": "markdown",
   "metadata": {},
   "source": [
    "Check that the renaming worked:"
   ]
  },
  {
   "cell_type": "code",
   "execution_count": 8,
   "metadata": {
    "collapsed": false,
    "scrolled": true
   },
   "outputs": [
    {
     "name": "stdout",
     "output_type": "stream",
     "text": [
      "name,16S.match,16S.match:colour,23S.match,23S.match:colour,blaTEM.match,blaTEM.match:colour,folP.match,folP.match:colour,gyrA.match,gyrA.match:colour,mtrR.match,mtrR.match:colour,mtrR_promoter.match,mtrR_promoter.match:colour,parC.match,parC.match:colour,parE.match,parE.match:colour,penA.match,penA.match:colour,ponA.match,ponA.match:colour,porA.match,porA.match:colour,porB1a.match,porB1a.match:colour,porB1b.match,porB1b.match:colour,rpoB.match,rpoB.match:colour,rpsJ.match,rpsJ.match:colour,tetM.match,tetM.match:colour\n",
      "ERR1067709,no,#fb9a99,no,#fb9a99,no,#fb9a99,yes,#33a02c,no,#fb9a99,no,#fb9a99,yes,#33a02c,no,#fb9a99,no,#fb9a99,no,#fb9a99,no,#fb9a99,no,#fb9a99,no,#fb9a99,yes,#33a02c,yes,#33a02c,yes,#33a02c,no,#fb9a99\n"
     ]
    }
   ],
   "source": [
    "head -n 2 out.phandango.csv"
   ]
  },
  {
   "cell_type": "markdown",
   "metadata": {},
   "source": [
    "Now go to [Phandango](http://phandango.net/) and drag and drop the files `out.phandango.csv` and `data/tree_for_phandango.tre` into the window. The result should like this:\n",
    "\n",
    "![title](Screenshots/screenshot.phandango.default.png)\n",
    "\n",
    "This a very high-level summary of the data. For each cluster, it is simply saying whether or not each sample has a 'match'. Green means a match, and pink means not a match. For presence/absence genes, this means that the gene must simply be there to count as a match. If it is a \"variant only\" gene, then the gene must be there and one of the variants that we told ARIBA about earlier when [generating the ARIBA database](make_custom_db.ipynb)."
   ]
  },
  {
   "cell_type": "markdown",
   "metadata": {},
   "source": [
    "## More information per cluster\n",
    "\n",
    "In addition to a simple \"yes\" or \"no\" as to whether a sample \"matches\" a given cluster (as explained above), more columns can be output for each cluster. See the [ARIBA summary wiki page](https://github.com/sanger-pathogens/ariba/wiki/Task:-summary) for a full description of the options.\n",
    "\n",
    "Adding more columns can result in a very wide plot, so we will just look at 23S from now on, using the option `--only_clusters 23S`. Adding the option `--preset all` will show all available columns for the 23S cluster:"
   ]
  },
  {
   "cell_type": "code",
   "execution_count": 9,
   "metadata": {
    "collapsed": true
   },
   "outputs": [],
   "source": [
    "ariba summary --only_clusters 23S --preset cluster_all --no_tree \\\n",
    "  --fofn data/filenames.fofn out data/ARIBA_reports/*.tsv"
   ]
  },
  {
   "cell_type": "markdown",
   "metadata": {},
   "source": [
    "As before, drag and drop the files `out.phandango.csv` and `data/tree_for_phandango.tre` into the window. This time the result should look like this:\n",
    "\n",
    "\n",
    "![Phandango 23S cluster_all](Screenshots/screenshot.phandango.23S.cluster_all.png)\n",
    "\n",
    "Now there are seven columns, showing various findings from ARIBA for 23S. These columns are described in the [ARIBA summary wiki page](https://github.com/sanger-pathogens/ariba/wiki/Task:-summary).\n",
    "\n",
    "You can control exactly which of the seven cluster columns are output using the option `--cluster_cols` instead of `--preset`. For example, this will show just the \"match\" and \"pct_id\" columns:"
   ]
  },
  {
   "cell_type": "code",
   "execution_count": 10,
   "metadata": {
    "collapsed": true
   },
   "outputs": [],
   "source": [
    "ariba summary --only_clusters 23S --cluster_cols match,pct_id --no_tree \\\n",
    "  --fofn data/filenames.fofn out data/ARIBA_reports/*.tsv"
   ]
  },
  {
   "cell_type": "markdown",
   "metadata": {},
   "source": [
    "## Variants\n",
    "\n",
    "In the previous screenshot, where the option `--preset cluster_all`, there are two variant columns: \"known_var\" and \"novel_var\". Green means \"yes\" and pink means \"no\". Here, we are considering a variant to be a difference bewteen the reference sequence and the assembly contig from the reads. The known_var column indicates whether each sample has any variant that is known to ARIBA, which means it was included when the original ARIBA database was generated. The novel_var column indicates whether or not a sample has any variant that is not already known to ARIBA.\n",
    "\n",
    "We can view the calls for all the known variants by adding the `--known_variants` option:"
   ]
  },
  {
   "cell_type": "code",
   "execution_count": 11,
   "metadata": {
    "collapsed": true
   },
   "outputs": [],
   "source": [
    "ariba summary --only_clusters 23S --known_variants --no_tree \\\n",
    "  --fofn data/filenames.fofn out data/ARIBA_reports/*.tsv"
   ]
  },
  {
   "cell_type": "markdown",
   "metadata": {},
   "source": [
    "As before, drag and drop the files `out.phandango.csv` and `data/tree_for_phandango.tre` into the window. This time the result should like this:\n",
    "\n",
    "![Phandango 23S known_variants](Screenshots/screenshot.phandango.23S.known_vars.png)\n",
    "\n",
    "Each known SNP and whether or not it is present is shown, but you may have noticed there are three colours. Green means \"yes\", orange means \"heterozygous\", and pink means \"no\". *N. gonorrhoeae* has four copies of 23S. A SNP could be present in none, some, or all copies. Where it is present in 1,2, or 3 copies, it is called \"heterozygous\" by ARIBA. Consider the SNP 2597CT in column 4, and column 5 to the right \"2597CT.%\". Samples either do not have this SNP, or have heterozygous calls. The 2597CT.% shows the percent of reads that have the SNP, when mapped to the contig. Hover over the coloured blocks in Phandango to see the percentage."
   ]
  },
  {
   "cell_type": "code",
   "execution_count": 12,
   "metadata": {
    "collapsed": true
   },
   "outputs": [],
   "source": [
    "ariba summary --only_clusters 23S --novel_variants --no_tree \\\n",
    "  --fofn data/filenames.fofn out data/ARIBA_reports/*.tsv"
   ]
  },
  {
   "cell_type": "markdown",
   "metadata": {},
   "source": [
    "Now Phandango shows all variants found in any of the samples (even if the variant is unique to one sample). This results in a lot of columns!\n",
    "\n",
    "![Phandango 23S novel_variants](Screenshots/screenshot.phandango.23S.novel_vars.png)"
   ]
  }
 ],
 "metadata": {
  "kernelspec": {
   "display_name": "Bash",
   "language": "bash",
   "name": "bash"
  },
  "language_info": {
   "codemirror_mode": "shell",
   "file_extension": ".sh",
   "mimetype": "text/x-sh",
   "name": "bash"
  }
 },
 "nbformat": 4,
 "nbformat_minor": 2
}
