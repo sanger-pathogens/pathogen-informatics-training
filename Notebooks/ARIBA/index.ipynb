{
 "cells": [
  {
   "cell_type": "markdown",
   "metadata": {},
   "source": [
    "# ARIBA tutorial\n",
    "\n",
    "This is a walkthrough of the analysis of the *Neisseria gonorrhoeae* data set from the ARIBA paper. It assumes that you have ARIBA installed on your computer.\n",
    "\n",
    "The walkthrough comprises the following stages:\n",
    "\n",
    "1. [How to use custom reference data with ARIBA](make_custom_db.ipynb)\n",
    "2. [Run ARIBA using the custom reference data](run_ariba.ipynb)\n",
    "3. [View summarized results using Phandango](phandango.ipynb)\n",
    "4. [Investigate MIC data in relation to variants in the samples](micplot.ipynb)"
   ]
  }
 ],
 "metadata": {
  "kernelspec": {
   "display_name": "Bash",
   "language": "bash",
   "name": "bash"
  },
  "language_info": {
   "codemirror_mode": "shell",
   "file_extension": ".sh",
   "mimetype": "text/x-sh",
   "name": "bash"
  }
 },
 "nbformat": 4,
 "nbformat_minor": 2
}
