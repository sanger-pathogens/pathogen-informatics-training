{
 "cells": [
  {
   "cell_type": "markdown",
   "metadata": {},
   "source": [
    "# Investigating MIC data\n",
    "\n",
    "We will use the *N. gonorrhoeae* dataset. This tutorial includes pre-computed output of running ARIBA on all the samples, and the ARIBA database that was made in the [first section](make_custom_db.ipynb). Do not worry if you did not follow that part of the tutorial - we will use a pre-computed version of the database called `data/Ref/Ngo_ARIBAdb/`.\n",
    "\n",
    "ARIBA has a function called \"micplot\" that generates plots showing the distribution of MICs across samples with different combinations of genotypes. To use it, a file is required of MIC data for each sample and at least one drug. It looks like this:"
   ]
  },
  {
   "cell_type": "code",
   "execution_count": 1,
   "metadata": {
    "collapsed": false
   },
   "outputs": [
    {
     "name": "stdout",
     "output_type": "stream",
     "text": [
      "Sample\tNames\tReference\tAzithromycin\tCefixime\tCeftriaxone\tCiprofloxacin\n",
      "ERR1067709\tGCGS0277\tgrad2014_2016\t0.25\t0.008\t0.008\t0.015\n",
      "ERR1067710\tGCGS0839\tgrad2014_2016\t0.25\t0.125\t0.015\t0.002\n",
      "ERR1067711\tGCGS0605\tgrad2014_2016\t0.25\t0.03\t0.03\t0.015\n",
      "ERR1067712\tGCGS0287\tgrad2014_2016\t0.25\t0.008\t0.008\t0.008\n",
      "ERR1067713\tGCGS0613\tgrad2014_2016\t0.5\t0.03\t0.03\t0.004\n",
      "ERR1067714\tGCGS0766\tgrad2014_2016\t0.25\t0.06\t0.008\t0.004\n",
      "ERR1067715\tGCGS0624\tgrad2014_2016\t0.25\t0.03\t0.015\t2\n",
      "ERR1067716\tGCGS0625\tgrad2014_2016\t0.25\t0.03\t0.015\t2\n",
      "ERR1067717\tGCGS0440\tgrad2014_2016\t0.25\t0.015\t0.004\t0.002\n"
     ]
    }
   ],
   "source": [
    "head data/mic_data.tsv"
   ]
  },
  {
   "cell_type": "markdown",
   "metadata": {},
   "source": [
    "The first column must be named \"Sample\" and have names that exactly match those in ARIBA summary files used as input to micplot (we will see this shortly). The remaining columns should contain drug names and MIC scores, however, note that the first two columns contain other data that will be ignored by ARIBA. When ARIBA loads the file, it tries to convert everything in columns 2 onwards to numbers and assign a value of \"NA\" when this is not possible.\n",
    "\n",
    "To run micplot, we need an MIC file, like the one above, and an ARIBA summary file (as described in the [previous section](phandango.ipynb)). This generates a summary of known 23S and mtrR mutations and includes the \"assembled\" cluster column, so that interrupted mtrR can be identified:"
   ]
  },
  {
   "cell_type": "code",
   "execution_count": 2,
   "metadata": {
    "collapsed": false
   },
   "outputs": [],
   "source": [
    "ariba summary --row_filter n --cluster_cols assembled,known_var --only_clusters 23S,mtrR \\\n",
    "  --v_groups --no_tree --fofn data/filenames.fofn summary.AZMknowngroups"
   ]
  },
  {
   "cell_type": "markdown",
   "metadata": {},
   "source": [
    "Now we can run micplot using the new file `summary.AZMknowngroups.csv` and the MIC file `data/mic_data.tsv`, showing the MIC data for azithromicin compared with the different combinations of sequences and known mutations in 23S and mtrR:"
   ]
  },
  {
   "cell_type": "code",
   "execution_count": 3,
   "metadata": {
    "collapsed": false
   },
   "outputs": [],
   "source": [
    "ariba micplot data/Ref/Ngo_ARIBAdb/ --interrupted Azithromycin \\\n",
    "    data/mic_data.tsv summary.AZMknowngroups.csv micplot.AZMknowngroups"
   ]
  },
  {
   "cell_type": "markdown",
   "metadata": {},
   "source": [
    "This produced a pdf file `micplot.AZMknowngroups.pdf` that looks like this:\n",
    "\n",
    "![micplot AZMknowngroups](Screenshots/screenshot.micplot.AZMknowngroups.png)\n",
    "\n",
    "There are various options that can be changed. We will show some of them here, but try running `ariba micplot --help` to see all the options.\n",
    "\n",
    "\n",
    "## Horizontal lines\n",
    "\n",
    "Horizontal lines can be added to indicate import cutoffs for MIC data, in this case 0.25 and 2, using the option `--hlines`."
   ]
  },
  {
   "cell_type": "code",
   "execution_count": 4,
   "metadata": {
    "collapsed": true
   },
   "outputs": [],
   "source": [
    "ariba micplot data/Ref/Ngo_ARIBAdb/ --interrupted --hlines 0.25,2 \\\n",
    " Azithromycin data/mic_data.tsv summary.AZMknowngroups.csv micplot.AZMknowngroups"
   ]
  },
  {
   "cell_type": "markdown",
   "metadata": {},
   "source": [
    "Here is the result:\n",
    "\n",
    "![micplot hlines](Screenshots/screenshot.micplot.AZMknowngroups.hlines.png)\n",
    "\n",
    "## Plot styles\n",
    "\n",
    "In the plots above, there is one point per sample. It can be hard to see how many points there are, despite there being jittering applied to the horizontal position. We can change the style to group the points together and plot circles of sizes proportional to the number of samples, using the option `--point_size`. This option determines the size of the points, but when set to zero if groups the points together. "
   ]
  },
  {
   "cell_type": "code",
   "execution_count": 5,
   "metadata": {
    "collapsed": true
   },
   "outputs": [],
   "source": [
    "ariba micplot data/Ref/Ngo_ARIBAdb/ --interrupted --hlines 0.25,2 \\\n",
    " --point_size 0 \\\n",
    " Azithromycin data/mic_data.tsv summary.AZMknowngroups.csv micplot.AZMknowngroups"
   ]
  },
  {
   "cell_type": "markdown",
   "metadata": {},
   "source": [
    "Here is the result:\n",
    "\n",
    "![micplot point size zero](Screenshots/screenshot.micplot.AZMknowngroups.point_zero.png)"
   ]
  },
  {
   "cell_type": "markdown",
   "metadata": {},
   "source": [
    "You can choose to not show the violin plots or the dots in the upper plot, using the option `--plot_types`. The default is `violin,point`, which means show both. To only show the dots:"
   ]
  },
  {
   "cell_type": "code",
   "execution_count": 6,
   "metadata": {
    "collapsed": true
   },
   "outputs": [],
   "source": [
    "ariba micplot data/Ref/Ngo_ARIBAdb/ --interrupted --hlines 0.25,2 \\\n",
    " --plot_types point --point_size 0 \\\n",
    " Azithromycin data/mic_data.tsv summary.AZMknowngroups.csv micplot.AZMknowngroups"
   ]
  },
  {
   "cell_type": "markdown",
   "metadata": {},
   "source": [
    "Here is the result:\n",
    "\n",
    "![micplot dots only](Screenshots/screenshot.micplot.AZMknowngroups.dots_only.png)"
   ]
  },
  {
   "cell_type": "markdown",
   "metadata": {},
   "source": [
    "## Colours\n",
    "\n",
    "There are various colour options - see the [matplotlib colourmaps page](http://matplotlib.org/users/colormaps.html) for all of the available colour palettes. The default is \"Accent\", which has 8 colours. ARIBA will cycle through these, repeating colours if there are more than 8 columns in the plot. The palette can be changed using the option `--colourmap`."
   ]
  },
  {
   "cell_type": "code",
   "execution_count": 7,
   "metadata": {
    "collapsed": false
   },
   "outputs": [],
   "source": [
    "ariba micplot data/Ref/Ngo_ARIBAdb/ --interrupted --hlines 0.25,2 \\\n",
    " --colourmap PiYG \\\n",
    " --point_size 0 \\\n",
    " Azithromycin data/mic_data.tsv summary.AZMknowngroups.csv micplot.AZMknowngroups"
   ]
  },
  {
   "cell_type": "markdown",
   "metadata": {},
   "source": [
    "Here is the result:\n",
    "\n",
    "![micplot PiYG](Screenshots/screenshot.micplot.AZMknowngroups.PiYG.png)\n",
    "\n",
    "The palette PiYG is continuous, and is almost white in the middle. This is not ideal. We can skip the range in the middle, specifically 40-60%, using the option `--colour_skip`:"
   ]
  },
  {
   "cell_type": "code",
   "execution_count": 8,
   "metadata": {
    "collapsed": true
   },
   "outputs": [],
   "source": [
    "ariba micplot data/Ref/Ngo_ARIBAdb/ --interrupted --hlines 0.25,2 \\\n",
    " --colourmap PiYG --colour_skip 0.35,0.65 \\\n",
    " --point_size 0 \\\n",
    " Azithromycin data/mic_data.tsv summary.AZMknowngroups.csv micplot.AZMknowngroups"
   ]
  },
  {
   "cell_type": "markdown",
   "metadata": {},
   "source": [
    "Here is the new plot:\n",
    "\n",
    "![micplot colour_skip](Screenshots/screenshot.micplot.AZMknowngroups.colour_skip.png)"
   ]
  },
  {
   "cell_type": "markdown",
   "metadata": {},
   "source": [
    "The number of colours can be set to less than the number of columns using the option `--number_of_colours`. This makes ARIBA cycle the colours. Here is an example using the first three colours from the \"Dark2\" colour palette:"
   ]
  },
  {
   "cell_type": "code",
   "execution_count": 9,
   "metadata": {
    "collapsed": true
   },
   "outputs": [],
   "source": [
    "ariba micplot data/Ref/Ngo_ARIBAdb/ --interrupted --hlines 0.25,2 \\\n",
    " --colourmap Dark2 --number_of_colours 3 \\\n",
    " --point_size 0 \\\n",
    " Azithromycin data/mic_data.tsv summary.AZMknowngroups.csv micplot.AZMknowngroups"
   ]
  },
  {
   "cell_type": "markdown",
   "metadata": {},
   "source": [
    "And we only have thre colours:\n",
    "\n",
    "![micplot 3 colours](Screenshots/screenshot.micplot.AZMknowngroups.3colours.png)"
   ]
  },
  {
   "cell_type": "markdown",
   "metadata": {},
   "source": [
    "Setting the number of colours to one results in a black and white figure."
   ]
  },
  {
   "cell_type": "code",
   "execution_count": 10,
   "metadata": {
    "collapsed": true
   },
   "outputs": [],
   "source": [
    "ariba micplot data/Ref/Ngo_ARIBAdb/ --interrupted --hlines 0.25,2 \\\n",
    " --number_of_colours 1 \\\n",
    " --point_size 0 \\\n",
    " Azithromycin data/mic_data.tsv summary.AZMknowngroups.csv micplot.AZMknowngroups"
   ]
  },
  {
   "cell_type": "markdown",
   "metadata": {},
   "source": [
    "Here is the black and white figure:\n",
    "\n",
    "![micplot black and white](Screenshots/screenshot.micplot.AZMknowngroups.blackwhite.png)"
   ]
  }
 ],
 "metadata": {
  "kernelspec": {
   "display_name": "Bash",
   "language": "bash",
   "name": "bash"
  },
  "language_info": {
   "codemirror_mode": "shell",
   "file_extension": ".sh",
   "mimetype": "text/x-sh",
   "name": "bash"
  }
 },
 "nbformat": 4,
 "nbformat_minor": 2
}
