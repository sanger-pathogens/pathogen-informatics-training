{
 "cells": [
  {
   "cell_type": "markdown",
   "metadata": {},
   "source": [
    "# Run ARIBA on all samples\n",
    "\n",
    "This shows how to run ARIBA on a large number of samples. To save time, this notebook does not actually run any of the commands (each run of ARIBA takes a few minutes). \n",
    "\n",
    "## Reference database \n",
    "\n",
    "First we need a reference database. You will already have one if you followed the instructions in the previous part of this tutorial ([How to use custom reference data with ARIBA](make_custom_db.ipynb)). Alternatively, you can use one of the [public datasets that ARIBA supports](https://github.com/sanger-pathogens/ariba/wiki/Task:-getref). For example, to use CARD run these two commands to make an ARIBA database directory called `ariba_db`:\n",
    "\n",
    "```\n",
    "ariba getref card out.card\n",
    "\n",
    "ariba prepareref -f out.card.fa -m out.card.tsv ariba_db\n",
    "```"
   ]
  },
  {
   "cell_type": "markdown",
   "metadata": {},
   "source": [
    "## How to run on one sample\n",
    "\n",
    "ARIBA needs the database directory, which we will call `Ngo_ARIBAdb` to be consistent with the [previous section of the tutorial](make_custom_db.ipynb), and two sequencing reads files `reads.1.fastq.gz`, `reads.2.fastq.gz`. The command to run ARIBA is:\n",
    "\n",
    "```\n",
    "ariba run Ngo_ARIBAdb reads.1.fastq.gz reads.2.fastq.gz outdir\n",
    "```\n",
    "\n",
    "The above command will make a new directory called `outdir` that contains the results.\n"
   ]
  },
  {
   "cell_type": "markdown",
   "metadata": {},
   "source": [
    "## Run on all samples\n",
    "\n",
    "The *N. gonorrhoeae* dataset consists of 1517 samples, and we need to run ARIBA on each sample, which can be done with a \"for\" loop. We assume that the reads files are named like this:\n",
    "\n",
    "```\n",
    "ERR1067813.1.fq.gz ERR1067813.2.fq.gz\n",
    "ERR1067814.1.fq.gz ERR1067814.2.fq.gz\n",
    "ERR1067815.1.fq.gz ERR1067815.2.fq.gz\n",
    "```\n",
    "\n",
    "Then we can run ARIBA on all samples like this (you may need to edit this command depending on how your own files are named):\n",
    "\n",
    "```\n",
    "for sample in `ls *.1.fq.gz | sed 's/\\.1.fq.gz//'`\n",
    "do\n",
    "    ariba run Ngo_ARIBAdb $sample.1.fq.gz $sample.2.fq.gz $sample.ariba\n",
    "done\n",
    "```\n",
    "\n",
    "For Sanger pathogens users only: use LSF to run all the jobs.\n",
    "\n",
    "```\n",
    "for sample in `ls *.1.fq.gz | sed 's/\\.1.fq.gz//'`\n",
    "do\n",
    "    bsub.py 1 $sample.ariba ariba run Ngo_ARIBAdb $sample.1.fq.gz $sample.2.fq.gz $sample.ariba\n",
    "done\n",
    "```\n",
    "\n",
    "The output directory of each sample is called `$sample.ariba`, for example ERR1067813.ariba is the output directory for sample ERR1067813."
   ]
  },
  {
   "cell_type": "markdown",
   "metadata": {},
   "source": [
    "## ARIBA output\n",
    "\n",
    "The output files are described [here](https://github.com/sanger-pathogens/ariba/wiki/Task:-run).\n",
    "\n",
    "Go to the next part of the tutorial where we [use Phandango to view the results](phandango.ipynb), or [return to the index](index.ipynb)."
   ]
  }
 ],
 "metadata": {
  "kernelspec": {
   "display_name": "Bash",
   "language": "bash",
   "name": "bash"
  },
  "language_info": {
   "codemirror_mode": "shell",
   "file_extension": ".sh",
   "mimetype": "text/x-sh",
   "name": "bash"
  }
 },
 "nbformat": 4,
 "nbformat_minor": 2
}
