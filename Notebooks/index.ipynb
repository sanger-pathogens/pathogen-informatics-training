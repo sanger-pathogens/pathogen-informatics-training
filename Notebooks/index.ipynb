{
 "cells": [
  {
   "cell_type": "markdown",
   "metadata": {},
   "source": [
    "# Pathogen Informatics Training\n",
    "\n",
    "Welcome to the Pathogen Informatics training courses. \n",
    "\n",
    "\n",
    "## Courses\n",
    "\n",
    "The following courses are available:\n",
    "\n",
    "* [Unix](Unix/index.ipynb)\n",
    "* [BLAST](BLAST/index.ipynb)\n",
    "* [ARIBA](ARIBA/index.ipynb)\n",
    "\n",
    "\n",
    "## Jupyter notebooks\n",
    "\n",
    "Each course is a \"[Jupyter](http://jupyter.org/) notebook\". These are interactive, which means you can change any command and immediately run it to see the effect. Click inside a box to edit it - its border will turn dark green. Then either press control-enter, or in the menu at the top select Cell -> Run, to rerun the command. The new output will appear below the box.\n",
    "\n",
    "Comprehensive documentation on using Jupyter notebooks can be found [here](http://nbviewer.jupyter.org/github/ipython/ipython/blob/3.x/examples/Notebook/Index.ipynb)."
   ]
  }
 ],
 "metadata": {
  "anaconda-cloud": {},
  "kernelspec": {
   "display_name": "Bash",
   "language": "bash",
   "name": "bash"
  },
  "language_info": {
   "codemirror_mode": "shell",
   "file_extension": ".sh",
   "mimetype": "text/x-sh",
   "name": "bash"
  }
 },
 "nbformat": 4,
 "nbformat_minor": 0
}
