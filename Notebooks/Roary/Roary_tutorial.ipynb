{
 "cells": [
  {
   "cell_type": "markdown",
   "metadata": {},
   "source": [
    "# Roary: the pan genome pipeline"
   ]
  },
  {
   "cell_type": "markdown",
   "metadata": {},
   "source": [
    "## Introduction\n",
    "\n",
    "### What is a pangenome\n",
    "\n",
    "### What is Roary\n",
    "\n",
    "This tutorial assumes that you have **[Roary](https://github.com/sanger-pathogens/Roary)** and **[Prokka](https://github.com/tseemann/prokka)** installed."
   ]
  },
  {
   "cell_type": "markdown",
   "metadata": {},
   "source": [
    "## Prepare data for input into Roary\n",
    "\n",
    "### Obtaining the example dataset\n",
    "\n",
    "**A Phylogenetic and Phenotypic Analysis of Salmonella enterica Serovar Weltevreden, an Emerging Agent of Diarrheal Disease in Tropical Regions.**  \n",
    "Makendi C, Page AJ, Wren BW, Le Thi Phuong T, Clare S, *et al*.  \n",
    "*PLOS Neglected Tropical Diseases*,2016;**10(2)**:e0004446.  \n",
    "[doi: 10.1371/journal.pn td.0004446](http://journals.plos.org/plosntds/article?id=10.1371/journal.pntd.0004446)"
   ]
  },
  {
   "cell_type": "markdown",
   "metadata": {},
   "source": [
    "### Genome annotation\n",
    "Prokka"
   ]
  },
  {
   "cell_type": "code",
   "execution_count": null,
   "metadata": {
    "collapsed": true
   },
   "outputs": [],
   "source": [
    "for fn in *.fna\n",
    "do\n",
    "fname=`basename $fn .fna`\n",
    "prokka --kingdom Bacteria --genus Salmonella --locustag $fname --outdir \"prokka_$fname\" $fn\n",
    "done"
   ]
  },
  {
   "cell_type": "markdown",
   "metadata": {},
   "source": [
    "## Quality Control"
   ]
  },
  {
   "cell_type": "markdown",
   "metadata": {},
   "source": [
    "## Running Roary"
   ]
  },
  {
   "cell_type": "markdown",
   "metadata": {},
   "source": [
    "## Drawing trees"
   ]
  },
  {
   "cell_type": "markdown",
   "metadata": {},
   "source": [
    "## Querying the pangenome"
   ]
  },
  {
   "cell_type": "markdown",
   "metadata": {},
   "source": [
    "## Visualising results using Phandango"
   ]
  },
  {
   "cell_type": "markdown",
   "metadata": {},
   "source": [
    "Note: make sure you have the latest version of prokka installled if your filenames have the \"|\" character in them else tbl2asn will not generate the .gbk file which is used by prokka."
   ]
  },
  {
   "cell_type": "markdown",
   "metadata": {},
   "source": [
    "Use the following code to run prokka on all of the fna files"
   ]
  }
 ],
 "metadata": {
  "kernelspec": {
   "display_name": "Bash",
   "language": "bash",
   "name": "bash"
  },
  "language_info": {
   "codemirror_mode": "shell",
   "file_extension": ".sh",
   "mimetype": "text/x-sh",
   "name": "bash"
  }
 },
 "nbformat": 4,
 "nbformat_minor": 0
}
