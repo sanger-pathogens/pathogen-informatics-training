{
 "cells": [
  {
   "cell_type": "markdown",
   "metadata": {},
   "source": [
    "# Roary: the pan genome pipeline"
   ]
  },
  {
   "cell_type": "markdown",
   "metadata": {},
   "source": [
    "## Introduction\n",
    "\n",
    "A pan-genome is the repertoire of genes from a group of genomes.  It includes genes present in all strains (*core genome*) and those present in only some of the strains (*accessory genome*). \n",
    "\n",
    "In this tutorial, we use [Roary](https://sanger-pathogens.github.io/Roary/) to calculate the pan-genome of 5 bacterial strains.\n",
    "\n",
    "For this tutorial, you will need to install **[Roary](https://github.com/sanger-pathogens/Roary)** and **[Prokka](https://github.com/tseemann/prokka)**.  \n"
   ]
  },
  {
   "cell_type": "markdown",
   "metadata": {},
   "source": [
    "## Prepare data for input into Roary\n",
    "\n",
    "### Download tutorial dataset\n",
    "\n",
    "*Salmonella enterica* serovar Weltevreden (*S.* Weltevreden)\n",
    "\n",
    "**A Phylogenetic and Phenotypic Analysis of Salmonella enterica Serovar Weltevreden, an Emerging Agent of Diarrheal Disease in Tropical Regions.**  \n",
    "Makendi C, Page AJ, Wren BW, Le Thi Phuong T, Clare S, *et al*.  \n",
    "*PLOS Neglected Tropical Diseases*,2016;**10(2)**:e0004446.  \n",
    "[doi:10.1371/journal.pntd.0004446](http://dx.doi.org/10.1371/journal.pntd.0004446)\n",
    "\n",
    "\n",
    "\n",
    "\n",
    "\n"
   ]
  },
  {
   "cell_type": "code",
   "execution_count": null,
   "metadata": {
    "collapsed": true
   },
   "outputs": [],
   "source": [
    "wget https://github.com/vaofford/pathogen-informatics-training/tree/roary_tutorial/Notebooks/Roary/example"
   ]
  },
  {
   "cell_type": "markdown",
   "metadata": {
    "collapsed": true
   },
   "source": [
    "| Assembly accession| Year of isolation | Country | Isolation source |\n",
    "| :---: | :---: | :---: | :---: |\n",
    "| LN890522 | 1998 | New Caledonia | Human Stool |\n",
    "| LN890523 | 1998 | New Caledonia | Human Stool |\n",
    "| LN890524 | 1999 | Reunion | Human Blood |\n",
    "| LN890525 | 1999 | Reunion | Human Blood |\n",
    "| LN890526 | 1999 | Reunion | Human Blood |"
   ]
  },
  {
   "cell_type": "markdown",
   "metadata": {},
   "source": [
    "### Genome annotation\n",
    "\n",
    "\n",
    "To run prokka on just one of the files (e.g. LN890522.fna) we would use the command below.\n",
    "\n",
    "`prokka --kingdom Bacteria --genus Salmonella --locustag LN890522 --outdir prokka_LN890522 LN890522.fna`\n",
    "\n",
    "As we have multiple genomes to annotate, it is easier to use a loop to run prokka on our five .fna files, automatically updating the locus tag, output directory and input filename for us. "
   ]
  },
  {
   "cell_type": "code",
   "execution_count": null,
   "metadata": {
    "collapsed": true
   },
   "outputs": [],
   "source": [
    "for fn in *.fna\n",
    "do\n",
    "fname=`basename $fn .fna`\n",
    "prokka --kingdom Bacteria --genus Salmonella --locustag $fname --outdir \"prokka_$fname\" $fn\n",
    "done"
   ]
  },
  {
   "cell_type": "markdown",
   "metadata": {},
   "source": []
  },
  {
   "cell_type": "markdown",
   "metadata": {},
   "source": [
    "| Extension | Description |\n",
    "| :---: | --- |\n",
    "| .gff | This is the master annotation in GFF3 format, containing both sequences and annotations. It can be viewed directly in Artemis or IGV. |\n",
    "| .gbk | This is a standard Genbank file derived from the master .gff. If the input to prokka was a multi-FASTA, then this will be a multi-Genbank, with one record for each sequence. |\n",
    "| .fna | Nucleotide FASTA file of the input contig sequences. |\n",
    "| .faa | Protein FASTA file of the translated CDS sequences. |\n",
    "| .ffn | Nucleotide FASTA file of all the annotated sequences, not just CDS. |\n",
    "| .sqn | An ASN1 format \"Sequin\" file for submission to Genbank. It needs to be edited to set the correct taxonomy, authors, related publication etc. |\n",
    "| .fsa | Nucleotide FASTA file of the input contig sequences, used by \"tbl2asn\" to create the .sqn file. It is mostly the same as the .fna file, but with extra Sequin tags in the sequence description lines. |\n",
    "| .tbl | Feature Table file, used by \"tbl2asn\" to create the .sqn file. |\n",
    "| .err | Unacceptable annotations - the NCBI discrepancy report. |\n",
    "| .log | Contains all the output that Prokka produced during its run. This is a record of what settings you used, even if the --quiet option was enabled. |\n",
    "| .txt | Statistics relating to the annotated features found. |"
   ]
  },
  {
   "cell_type": "markdown",
   "metadata": {},
   "source": [
    "## Quality Control"
   ]
  },
  {
   "cell_type": "markdown",
   "metadata": {},
   "source": [
    "## Running Roary"
   ]
  },
  {
   "cell_type": "markdown",
   "metadata": {},
   "source": [
    "## Drawing trees"
   ]
  },
  {
   "cell_type": "markdown",
   "metadata": {},
   "source": [
    "## Querying the pangenome"
   ]
  },
  {
   "cell_type": "markdown",
   "metadata": {},
   "source": [
    "## Visualising results using Phandango"
   ]
  },
  {
   "cell_type": "markdown",
   "metadata": {},
   "source": [
    "Note: make sure you have the latest version of prokka installled if your filenames have the \"|\" character in them else tbl2asn will not generate the .gbk file which is used by prokka."
   ]
  },
  {
   "cell_type": "markdown",
   "metadata": {},
   "source": [
    "## References\n",
    "\n",
    "**Roary: Rapid large-scale prokaryote pan genome analysis.**  \n",
    "Andrew J. Page, Carla A. Cummins, Martin Hunt, Vanessa K. Wong, Sandra Reuter, Matthew T. G. Holden, Maria Fookes, Daniel Falush, Jacqueline A. Keane, Julian Parkhill  \n",
    "*Bioinformatics* (2015) **31(22)**:3691-3693.  \n",
    "[doi:10.1093/bioinformatics/btv421](http://dx.doi.org/10.1093/bioinformatics/btv421) [PMID:26198102](https://www.ncbi.nlm.nih.gov/pubmed/26198102) \n",
    "\n",
    "**Prokka: rapid prokaryotic genome annotation**  \n",
    "Seemann T.  \n",
    "*Bioinformatics* (2014) **30(14)**:2068-9.  \n",
    "[doi:10.1093/bioinformatics/btu153](http://dx.doi.org/10.1093/bioinformatics/btu153) [PMID:24642063](https://www.ncbi.nlm.nih.gov/pubmed/24642063)\n",
    "\n",
    "**Phandango**   \n",
    "[http://jameshadfield.github.io/phandango/](http://jameshadfield.github.io/phandango/)\n",
    "\n",
    "**A Phylogenetic and Phenotypic Analysis of Salmonella enterica Serovar Weltevreden, an Emerging Agent of Diarrheal Disease in Tropical Regions.**  \n",
    "Makendi C, Page AJ, Wren BW, Le Thi Phuong T, Clare S, *et al.*  \n",
    "*PLOS Neglected Tropical Diseases* (2016) **10(2)**:e0004446.  \n",
    "[doi:10.1371/journal.pntd.0004446](http://dx.doi.org/10.1371/journal.pntd.0004446) [PMID:26867150](https://www.ncbi.nlm.nih.gov/pubmed/26867150)\n"
   ]
  },
  {
   "cell_type": "code",
   "execution_count": null,
   "metadata": {
    "collapsed": true
   },
   "outputs": [],
   "source": []
  }
 ],
 "metadata": {
  "kernelspec": {
   "display_name": "Bash",
   "language": "bash",
   "name": "bash"
  },
  "language_info": {
   "codemirror_mode": "shell",
   "file_extension": ".sh",
   "mimetype": "text/x-sh",
   "name": "bash"
  }
 },
 "nbformat": 4,
 "nbformat_minor": 0
}
