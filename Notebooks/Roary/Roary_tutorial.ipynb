{
 "cells": [
  {
   "cell_type": "markdown",
   "metadata": {},
   "source": [
    "# Roary: the pan genome pipeline"
   ]
  },
  {
   "cell_type": "markdown",
   "metadata": {},
   "source": [
    "## Introduction\n",
    "\n",
    "### What is a pangenome\n",
    "\n",
    "### What is Roary\n",
    "\n",
    "### Tutorial overview\n",
    "\n",
    "\n",
    "\n",
    "### Tutorial pre-requisites\n",
    "\n",
    "You will need to have **[Roary](https://github.com/sanger-pathogens/Roary)** and **[Prokka](https://github.com/tseemann/prokka)** installed.\n"
   ]
  },
  {
   "cell_type": "markdown",
   "metadata": {},
   "source": [
    "## Prepare data for input into Roary\n",
    "\n",
    "### Download tutorial dataset\n",
    "\n",
    "*Salmonella enterica* serovar Weltevreden (*S.* Weltevreden)\n",
    "\n",
    "**A Phylogenetic and Phenotypic Analysis of Salmonella enterica Serovar Weltevreden, an Emerging Agent of Diarrheal Disease in Tropical Regions.**  \n",
    "Makendi C, Page AJ, Wren BW, Le Thi Phuong T, Clare S, *et al*.  \n",
    "*PLOS Neglected Tropical Diseases*,2016;**10(2)**:e0004446.  \n",
    "[doi:10.1371/journal.pntd.0004446](http://dx.doi.org/10.1371/journal.pntd.0004446)\n",
    "\n",
    "| Assembly accession| Year of isolation | Country | Host | Isolation source |\n",
    "| --- | --- | --- | --- | --- |\n",
    "| LN890522 | 1998 | New Caledonia | Homo sapiens | Human Stool |\n",
    "| LN890523 | 1998 | New Caledonia | Homo sapiens | Human Stool |\n",
    "| LN890524 | 1999 | Reunion | Homo sapiens | Human Blood |\n",
    "| LN890525 | 1999 | Reunion | Homo sapiens | Human Blood |\n",
    "| LN890526 | 1999 | Reunion | Homo sapiens | Human Blood |\n",
    "\n",
    "\n",
    "\n"
   ]
  },
  {
   "cell_type": "code",
   "execution_count": null,
   "metadata": {
    "collapsed": true
   },
   "outputs": [],
   "source": []
  },
  {
   "cell_type": "markdown",
   "metadata": {},
   "source": [
    "### Genome annotation\n",
    "Prokka"
   ]
  },
  {
   "cell_type": "code",
   "execution_count": null,
   "metadata": {
    "collapsed": true
   },
   "outputs": [],
   "source": [
    "for fn in *.fna\n",
    "do\n",
    "fname=`basename $fn .fna`\n",
    "prokka --kingdom Bacteria --genus Salmonella --locustag $fname --outdir \"prokka_$fname\" $fn\n",
    "done"
   ]
  },
  {
   "cell_type": "markdown",
   "metadata": {},
   "source": []
  },
  {
   "cell_type": "markdown",
   "metadata": {},
   "source": [
    "## Quality Control"
   ]
  },
  {
   "cell_type": "markdown",
   "metadata": {},
   "source": [
    "## Running Roary"
   ]
  },
  {
   "cell_type": "markdown",
   "metadata": {},
   "source": [
    "## Drawing trees"
   ]
  },
  {
   "cell_type": "markdown",
   "metadata": {},
   "source": [
    "## Querying the pangenome"
   ]
  },
  {
   "cell_type": "markdown",
   "metadata": {},
   "source": [
    "## Visualising results using Phandango"
   ]
  },
  {
   "cell_type": "markdown",
   "metadata": {},
   "source": [
    "Note: make sure you have the latest version of prokka installled if your filenames have the \"|\" character in them else tbl2asn will not generate the .gbk file which is used by prokka."
   ]
  },
  {
   "cell_type": "markdown",
   "metadata": {},
   "source": [
    "## References\n",
    "\n",
    "**Roary: Rapid large-scale prokaryote pan genome analysis.**  \n",
    "Andrew J. Page, Carla A. Cummins, Martin Hunt, Vanessa K. Wong, Sandra Reuter, Matthew T. G. Holden, Maria Fookes, Daniel Falush, Jacqueline A. Keane, Julian Parkhill  \n",
    "*Bioinformatics* (2015) **31(22)**:3691-3693.  \n",
    "[doi:10.1093/bioinformatics/btv421](http://dx.doi.org/10.1093/bioinformatics/btv421) [PMID:26198102](https://www.ncbi.nlm.nih.gov/pubmed/26198102) \n",
    "\n",
    "**Prokka: rapid prokaryotic genome annotation**  \n",
    "Seemann T.  \n",
    "*Bioinformatics* (2014) **30(14)**:2068-9.  \n",
    "[doi:10.1093/bioinformatics/btu153](http://dx.doi.org/10.1093/bioinformatics/btu153) [PMID:24642063](https://www.ncbi.nlm.nih.gov/pubmed/24642063)\n",
    "\n",
    "**Phandango**   \n",
    "[http://jameshadfield.github.io/phandango/](http://jameshadfield.github.io/phandango/)\n",
    "\n",
    "**A Phylogenetic and Phenotypic Analysis of Salmonella enterica Serovar Weltevreden, an Emerging Agent of Diarrheal Disease in Tropical Regions.**  \n",
    "Makendi C, Page AJ, Wren BW, Le Thi Phuong T, Clare S, *et al.*  \n",
    "*PLOS Neglected Tropical Diseases* (2016) **10(2)**:e0004446.  \n",
    "[doi:10.1371/journal.pntd.0004446](http://dx.doi.org/10.1371/journal.pntd.0004446) [PMID:26867150](https://www.ncbi.nlm.nih.gov/pubmed/26867150)\n"
   ]
  },
  {
   "cell_type": "code",
   "execution_count": null,
   "metadata": {
    "collapsed": true
   },
   "outputs": [],
   "source": []
  }
 ],
 "metadata": {
  "kernelspec": {
   "display_name": "Bash",
   "language": "bash",
   "name": "bash"
  },
  "language_info": {
   "codemirror_mode": "shell",
   "file_extension": ".sh",
   "mimetype": "text/x-sh",
   "name": "bash"
  }
 },
 "nbformat": 4,
 "nbformat_minor": 0
}
