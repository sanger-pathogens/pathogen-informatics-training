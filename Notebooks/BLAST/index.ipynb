{
 "cells": [
  {
   "cell_type": "markdown",
   "metadata": {},
   "source": [
    "# BLAST\n",
    "\n",
    "**B**asic **L**ocal **A**lignment **S**earch **T**ool (**BLAST**) is a powerful tool for comparing and identifying sequences which share similarity.  This can be useful for several reasons:\n",
    "\n",
    "* Identifying an unknown sequence by finding annotated (or known) sequences which are similar\n",
    "* Finding similar sequences in other species (e.g. orthologs)\n",
    "* Predicting function by identifying similar regions in other sequences which already have a known function\n",
    "\n",
    "In this tutorial, we are going to use a version of BLAST called **BLAST+** which can be downloaded from [ftp://ftp.ncbi.nlm.nih.gov/blast/executables/blast+/LATEST/]( ftp://ftp.ncbi.nlm.nih.gov/blast/executables/blast+/LATEST/). \n",
    "\n",
    "BLAST+ is split into different applications which are based on the type of sequence provided by you, the user, as well as the type of sequences in the database being searched.  There are three things you will need each time you want to run a BLAST search:\n",
    "\n",
    "* **A query sequence** (_can be nucleotide or protein_)  \n",
    "* **A sequence database** (_can be nucleotide or protein_)  \n",
    "* **A BLAST application** (_this will depend on your query sequence and database - more on this later!_)\n",
    "\n",
    "Why do I need this tutorial you may say! Well, running BLAST+ is like running a lab experiment. To get meaningful results, you must first optimize the conditions you are using. After this tutorial you will not only be able to run BLAST, but be able to tailor your search to your specific biological question.\n",
    "\n",
    "## Learning outcomes\n",
    "By the end of this tutorial you will be able to:\n",
    "\n",
    "* Create a BLAST database from your own sequences\n",
    "* Understand the difference between BLAST programs and when to use them\n",
    "* Run BLAST locally\n",
    "* Use the parameters to generate tailored BLAST output files \n",
    "\n",
    "## Tutorial sections\n",
    "\n",
    "This tutorial is split into two sections: \n",
    "* [Part 1: Creating a BLAST database](format_database.ipynb) \n",
    "* [Part 2: Running a local BLAST+ search](run_blast.ipynb)\n",
    "\n",
    "Answers to the exercises from both sections can be found [here](general_question_and_exercise_answers.ipynb)\n",
    "\n",
    "## Running commands from this tutorial\n",
    "You may be viewing this tutorial interactively via Jupyter or via a handout (e.g. PDF). If you are using Jupyter, command cells (like the one below) can be run by selecting the cell and clicking _Cell -> Run_ from the menu above or using _ctrl Enter_ to run the command. Don't worry if you are using this as a PDF, you can run all the commands by copying or typing them into your terminal.\n",
    "\n",
    "Let's give this a try by printing our working directory using the _pwd_ command and listing the files within it. Run the commands in the two cells below (Jupyter) or on your terminal (PDF)."
   ]
  },
  {
   "cell_type": "code",
   "execution_count": null,
   "metadata": {
    "collapsed": false
   },
   "outputs": [],
   "source": [
    "pwd"
   ]
  },
  {
   "cell_type": "code",
   "execution_count": null,
   "metadata": {
    "collapsed": false
   },
   "outputs": [],
   "source": [
    "ls -l"
   ]
  },
  {
   "cell_type": "markdown",
   "metadata": {},
   "source": [
    "## Let's get started!\n",
    "For the first part of this tutorial, we are going to look at how to create a BLAST database from a file containing your own sequences. Answers to all of the questions can be found [here](general_question_and_exercise_answers.ipynb). Click [here](format_database.ipynb) to continue."
   ]
  }
 ],
 "metadata": {
  "anaconda-cloud": {},
  "kernelspec": {
   "display_name": "Bash",
   "language": "bash",
   "name": "bash"
  },
  "language_info": {
   "codemirror_mode": "shell",
   "file_extension": ".sh",
   "mimetype": "text/x-sh",
   "name": "bash"
  }
 },
 "nbformat": 4,
 "nbformat_minor": 1
}
